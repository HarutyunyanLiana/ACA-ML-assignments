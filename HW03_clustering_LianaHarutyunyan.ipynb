{
 "cells": [
  {
   "cell_type": "markdown",
   "metadata": {},
   "source": [
    "# HOMEWORK 3 - Clustering "
   ]
  },
  {
   "cell_type": "code",
   "execution_count": 74,
   "metadata": {},
   "outputs": [],
   "source": [
    "import numpy as np\n",
    "import pandas as pd\n",
    "import lightgbm as lgb\n",
    "\n",
    "import matplotlib.pyplot as plt\n",
    "from sklearn.ensemble import RandomForestRegressor\n",
    "from sklearn.metrics import mean_squared_error\n",
    "from sklearn.model_selection import GridSearchCV\n",
    "from sklearn.cluster import KMeans\n",
    "\n",
    "import keras\n",
    "from keras.preprocessing.image import load_img, img_to_array\n",
    "from keras.preprocessing import image\n",
    "from keras.applications.resnet50 import ResNet50\n",
    "\n",
    "import glob\n"
   ]
  },
  {
   "cell_type": "code",
   "execution_count": 19,
   "metadata": {},
   "outputs": [],
   "source": [
    "beach_image_list = []\n",
    "for filename in glob.glob('beach/*.JPEG'):\n",
    "    im=load_img(filename, target_size=(224,224))\n",
    "    im = img_to_array(im)\n",
    "    im = im.reshape((1, im.shape[0], im.shape[1], im.shape[2]))\n",
    "    beach_image_list.append(im)\n"
   ]
  },
  {
   "cell_type": "code",
   "execution_count": 20,
   "metadata": {},
   "outputs": [],
   "source": [
    "acorn_image_list = []\n",
    "for filename in glob.glob('acorn/*.JPEG'):\n",
    "    im=load_img(filename, target_size=(224,224))\n",
    "    im = img_to_array(im)\n",
    "    im = im.reshape((1, im.shape[0], im.shape[1], im.shape[2]))\n",
    "    acorn_image_list.append(im)\n"
   ]
  },
  {
   "cell_type": "code",
   "execution_count": 28,
   "metadata": {
    "scrolled": true
   },
   "outputs": [],
   "source": [
    "resnet = keras.applications.resnet50.ResNet50(include_top=False,\n",
    "                                              weights='imagenet', \n",
    "                                              pooling='max')\n"
   ]
  },
  {
   "cell_type": "code",
   "execution_count": 32,
   "metadata": {},
   "outputs": [],
   "source": [
    "acorn_last_layer = []\n",
    "for image in acorn_image_list:\n",
    "    neons = resnet.predict(image)\n",
    "    acorn_last_layer.append(neons)"
   ]
  },
  {
   "cell_type": "code",
   "execution_count": 34,
   "metadata": {},
   "outputs": [],
   "source": [
    "beach_last_layer = []\n",
    "for image in beach_image_list:\n",
    "    neons = resnet.predict(image)\n",
    "    beach_last_layer.append(neons)"
   ]
  },
  {
   "cell_type": "code",
   "execution_count": 56,
   "metadata": {},
   "outputs": [
    {
     "data": {
      "text/plain": [
       "(1000, 2048)"
      ]
     },
     "execution_count": 56,
     "metadata": {},
     "output_type": "execute_result"
    }
   ],
   "source": [
    "last_layers = np.concatenate((acorn_last_layer, beach_last_layer))\n",
    "last_layers = last_layers.squeeze()\n",
    "last_layers.shape"
   ]
  },
  {
   "cell_type": "code",
   "execution_count": 61,
   "metadata": {},
   "outputs": [],
   "source": [
    "kmeans = KMeans(n_clusters=2, random_state=42).fit_predict(last_layers)"
   ]
  },
  {
   "cell_type": "code",
   "execution_count": 73,
   "metadata": {},
   "outputs": [
    {
     "name": "stdout",
     "output_type": "stream",
     "text": [
      "The accuracy of partitioning is 94.5 %\n"
     ]
    }
   ],
   "source": [
    "acorns = kmeans[:500]\n",
    "beachs = kmeans[500:]\n",
    "accuracy = (len(acorns[acorns==0]) + len(beachs[beachs==1])) / 1000 * 100\n",
    "print(\"The accuracy of partitioning is\", accuracy, \"%\")"
   ]
  },
  {
   "cell_type": "code",
   "execution_count": null,
   "metadata": {},
   "outputs": [],
   "source": []
  }
 ],
 "metadata": {
  "kernelspec": {
   "display_name": "Python 3",
   "language": "python",
   "name": "python3"
  },
  "language_info": {
   "codemirror_mode": {
    "name": "ipython",
    "version": 3
   },
   "file_extension": ".py",
   "mimetype": "text/x-python",
   "name": "python",
   "nbconvert_exporter": "python",
   "pygments_lexer": "ipython3",
   "version": "3.6.4"
  }
 },
 "nbformat": 4,
 "nbformat_minor": 2
}
